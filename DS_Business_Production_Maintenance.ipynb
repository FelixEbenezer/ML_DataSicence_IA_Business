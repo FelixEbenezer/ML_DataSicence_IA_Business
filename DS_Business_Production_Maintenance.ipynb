{
  "nbformat": 4,
  "nbformat_minor": 0,
  "metadata": {
    "colab": {
      "name": "DS_Business_Production_Maintenance.ipynb",
      "provenance": [],
      "authorship_tag": "ABX9TyNFmW0yx51+g71tsxV+7cXA",
      "include_colab_link": true
    },
    "kernelspec": {
      "name": "python3",
      "display_name": "Python 3"
    },
    "language_info": {
      "name": "python"
    }
  },
  "cells": [
    {
      "cell_type": "markdown",
      "metadata": {
        "id": "view-in-github",
        "colab_type": "text"
      },
      "source": [
        "<a href=\"https://colab.research.google.com/github/FelixEbenezer/ML_DataSicence_IA_Business/blob/main/DS_Business_Production_Maintenance.ipynb\" target=\"_parent\"><img src=\"https://colab.research.google.com/assets/colab-badge.svg\" alt=\"Open In Colab\"/></a>"
      ]
    },
    {
      "cell_type": "markdown",
      "source": [
        "# DEPARTEMENT DE PRODUCTION ET MAINTENANCE"
      ],
      "metadata": {
        "id": "sGIXogL26mXZ"
      }
    },
    {
      "cell_type": "code",
      "execution_count": null,
      "metadata": {
        "id": "u5jbsLzB6ewa"
      },
      "outputs": [],
      "source": [
        "L´objectif est de detecter les pieces defectueuses, et apres segmenter les problemes dans les pieces. Donc on fera de la SEGMENTATION DE L IMAGE avec les\n",
        "techniques de Deep Learning.\n",
        "On va donc avoir besoin de créer 2 modeles_\n",
        "- le premier pour faire la detection des anomalies sur les pieces ou mieur verifier si l image de la piece presente des anomalies \n",
        "- et le second sert a isoler les anomalies sur les images \n",
        "\n",
        "Pour le premier modele, nous allons utiliser le modele pre entrainé de ResNet (DL classifier model)\n",
        "Et pour le second, ResUnet (segmentation model)"
      ]
    }
  ]
}