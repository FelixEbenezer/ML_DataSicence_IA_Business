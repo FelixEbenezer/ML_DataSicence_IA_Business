{
  "nbformat": 4,
  "nbformat_minor": 0,
  "metadata": {
    "colab": {
      "name": "DS_Business_RP.ipynb",
      "provenance": [],
      "authorship_tag": "ABX9TyPS33R15rZm1/VO+1Dq8sIt",
      "include_colab_link": true
    },
    "kernelspec": {
      "name": "python3",
      "display_name": "Python 3"
    },
    "language_info": {
      "name": "python"
    }
  },
  "cells": [
    {
      "cell_type": "markdown",
      "metadata": {
        "id": "view-in-github",
        "colab_type": "text"
      },
      "source": [
        "<a href=\"https://colab.research.google.com/github/FelixEbenezer/ML_DataSicence_IA_Business/blob/main/DS_Business_RP.ipynb\" target=\"_parent\"><img src=\"https://colab.research.google.com/assets/colab-badge.svg\" alt=\"Open In Colab\"/></a>"
      ]
    },
    {
      "cell_type": "markdown",
      "source": [
        "# DEPARTEMENT DE RELATIONS PUBLIQUES"
      ],
      "metadata": {
        "id": "sGIXogL26mXZ"
      }
    },
    {
      "cell_type": "code",
      "execution_count": null,
      "metadata": {
        "id": "u5jbsLzB6ewa"
      },
      "outputs": [],
      "source": [
        "L´objectif est d utiliser NLP pour prevoir si les clients sont ou pas satisfaits a travers leurs commentaires.\n"
      ]
    }
  ]
}