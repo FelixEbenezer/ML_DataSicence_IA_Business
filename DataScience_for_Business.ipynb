{
  "nbformat": 4,
  "nbformat_minor": 0,
  "metadata": {
    "colab": {
      "name": "DataScience_for_Business.ipynb",
      "provenance": [],
      "authorship_tag": "ABX9TyMW5klHFwWB2XKJMQSaCJuq",
      "include_colab_link": true
    },
    "kernelspec": {
      "name": "python3",
      "display_name": "Python 3"
    },
    "language_info": {
      "name": "python"
    }
  },
  "cells": [
    {
      "cell_type": "markdown",
      "metadata": {
        "id": "view-in-github",
        "colab_type": "text"
      },
      "source": [
        "<a href=\"https://colab.research.google.com/github/FelixEbenezer/ML_DataSicence_IA_Business/blob/main/DataScience_for_Business.ipynb\" target=\"_parent\"><img src=\"https://colab.research.google.com/assets/colab-badge.svg\" alt=\"Open In Colab\"/></a>"
      ]
    },
    {
      "cell_type": "code",
      "execution_count": null,
      "metadata": {
        "id": "xm-Ikp9vSyES"
      },
      "outputs": [],
      "source": [
        ""
      ]
    }
  ]
}